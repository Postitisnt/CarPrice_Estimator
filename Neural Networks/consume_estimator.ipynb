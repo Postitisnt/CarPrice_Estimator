{
  "cells": [
    {
      "attachments": {},
      "cell_type": "markdown",
      "metadata": {},
      "source": [
        "## Consume estimator"
      ]
    },
    {
      "attachments": {},
      "cell_type": "markdown",
      "metadata": {
        "id": "v_0-ogZmQB-q"
      },
      "source": [
        "The objective of this additional notebook is to build a neural network aimed at predicting the missing values from the column 'Emissions' of the original dataset."
      ]
    },
    {
      "attachments": {},
      "cell_type": "markdown",
      "metadata": {},
      "source": [
        "##### Imports"
      ]
    },
    {
      "cell_type": "code",
      "execution_count": 1,
      "metadata": {
        "id": "oGODe8K2QB-t"
      },
      "outputs": [],
      "source": [
        "import sys\n",
        "sys.path.insert(0, '../')\n",
        "from core_functions import *\n",
        "from pandas import set_option\n",
        "pd.options.display.max_columns = None\n",
        "import warnings\n",
        "warnings.filterwarnings(\"ignore\")"
      ]
    },
    {
      "attachments": {},
      "cell_type": "markdown",
      "metadata": {},
      "source": [
        "#### Load data"
      ]
    },
    {
      "attachments": {},
      "cell_type": "markdown",
      "metadata": {},
      "source": [
        "We load our dataset."
      ]
    },
    {
      "cell_type": "code",
      "execution_count": 2,
      "metadata": {
        "id": "pNYtxSrfQB-w"
      },
      "outputs": [],
      "source": [
        "# Load dataset\n",
        "df = pd.read_csv('../data/auto_price.csv', sep=',')"
      ]
    },
    {
      "attachments": {},
      "cell_type": "markdown",
      "metadata": {},
      "source": [
        "#### Preprocess our data"
      ]
    },
    {
      "attachments": {},
      "cell_type": "markdown",
      "metadata": {},
      "source": [
        "##### Consume column"
      ]
    },
    {
      "attachments": {},
      "cell_type": "markdown",
      "metadata": {},
      "source": [
        "Thanks to the above function we extract the numerical value from the 'Consume' column."
      ]
    },
    {
      "cell_type": "code",
      "execution_count": 3,
      "metadata": {},
      "outputs": [
        {
          "data": {
            "text/html": [
              "<div>\n",
              "<style scoped>\n",
              "    .dataframe tbody tr th:only-of-type {\n",
              "        vertical-align: middle;\n",
              "    }\n",
              "\n",
              "    .dataframe tbody tr th {\n",
              "        vertical-align: top;\n",
              "    }\n",
              "\n",
              "    .dataframe thead th {\n",
              "        text-align: right;\n",
              "    }\n",
              "</style>\n",
              "<table border=\"1\" class=\"dataframe\">\n",
              "  <thead>\n",
              "    <tr style=\"text-align: right;\">\n",
              "      <th></th>\n",
              "      <th>Consume</th>\n",
              "      <th>ConsumeFuel</th>\n",
              "      <th>ConsumeFuelNotUrban</th>\n",
              "      <th>MeanConsume</th>\n",
              "    </tr>\n",
              "  </thead>\n",
              "  <tbody>\n",
              "    <tr>\n",
              "      <th>0</th>\n",
              "      <td>4.1</td>\n",
              "      <td>4.1</td>\n",
              "      <td>3.6</td>\n",
              "      <td>NaN</td>\n",
              "    </tr>\n",
              "    <tr>\n",
              "      <th>1</th>\n",
              "      <td>7.2</td>\n",
              "      <td>7.2</td>\n",
              "      <td>5.6</td>\n",
              "      <td>NaN</td>\n",
              "    </tr>\n",
              "    <tr>\n",
              "      <th>2</th>\n",
              "      <td>3.8</td>\n",
              "      <td>3.8</td>\n",
              "      <td>3.3</td>\n",
              "      <td>NaN</td>\n",
              "    </tr>\n",
              "    <tr>\n",
              "      <th>3</th>\n",
              "      <td>5.9</td>\n",
              "      <td>5.9</td>\n",
              "      <td>5.5</td>\n",
              "      <td>NaN</td>\n",
              "    </tr>\n",
              "    <tr>\n",
              "      <th>4</th>\n",
              "      <td>6.2</td>\n",
              "      <td>6.2</td>\n",
              "      <td>5.7</td>\n",
              "      <td>NaN</td>\n",
              "    </tr>\n",
              "    <tr>\n",
              "      <th>...</th>\n",
              "      <td>...</td>\n",
              "      <td>...</td>\n",
              "      <td>...</td>\n",
              "      <td>...</td>\n",
              "    </tr>\n",
              "    <tr>\n",
              "      <th>178243</th>\n",
              "      <td>4.1</td>\n",
              "      <td>4.1</td>\n",
              "      <td>3.7</td>\n",
              "      <td>NaN</td>\n",
              "    </tr>\n",
              "    <tr>\n",
              "      <th>178244</th>\n",
              "      <td>4.1</td>\n",
              "      <td>4.1</td>\n",
              "      <td>3.7</td>\n",
              "      <td>NaN</td>\n",
              "    </tr>\n",
              "    <tr>\n",
              "      <th>178245</th>\n",
              "      <td>3.8</td>\n",
              "      <td>3.8</td>\n",
              "      <td>3.4</td>\n",
              "      <td>NaN</td>\n",
              "    </tr>\n",
              "    <tr>\n",
              "      <th>178246</th>\n",
              "      <td>3.8</td>\n",
              "      <td>3.8</td>\n",
              "      <td>3.4</td>\n",
              "      <td>NaN</td>\n",
              "    </tr>\n",
              "    <tr>\n",
              "      <th>178247</th>\n",
              "      <td>4.1</td>\n",
              "      <td>4.1</td>\n",
              "      <td>3.7</td>\n",
              "      <td>NaN</td>\n",
              "    </tr>\n",
              "  </tbody>\n",
              "</table>\n",
              "<p>178248 rows × 4 columns</p>\n",
              "</div>"
            ],
            "text/plain": [
              "       Consume  ConsumeFuel  ConsumeFuelNotUrban  MeanConsume\n",
              "0          4.1          4.1                  3.6          NaN\n",
              "1          7.2          7.2                  5.6          NaN\n",
              "2          3.8          3.8                  3.3          NaN\n",
              "3          5.9          5.9                  5.5          NaN\n",
              "4          6.2          6.2                  5.7          NaN\n",
              "...        ...          ...                  ...          ...\n",
              "178243     4.1          4.1                  3.7          NaN\n",
              "178244     4.1          4.1                  3.7          NaN\n",
              "178245     3.8          3.8                  3.4          NaN\n",
              "178246     3.8          3.8                  3.4          NaN\n",
              "178247     4.1          4.1                  3.7          NaN\n",
              "\n",
              "[178248 rows x 4 columns]"
            ]
          },
          "execution_count": 3,
          "metadata": {},
          "output_type": "execute_result"
        }
      ],
      "source": [
        "consume_df = df[['Consume', 'ConsumeFuel', 'ConsumeFuelNotUrban']].copy() # Build a sub-dataset containing only the columns relevant for this scenario\n",
        "consume_df['MeanConsume'] = np.nan # Add the column for the mean consumption and fill it with nan\n",
        "consume_df"
      ]
    },
    {
      "cell_type": "code",
      "execution_count": 4,
      "metadata": {},
      "outputs": [
        {
          "name": "stdout",
          "output_type": "stream",
          "text": [
            "<class 'pandas.core.frame.DataFrame'>\n",
            "RangeIndex: 178248 entries, 0 to 178247\n",
            "Data columns (total 4 columns):\n",
            " #   Column               Non-Null Count   Dtype  \n",
            "---  ------               --------------   -----  \n",
            " 0   Consume              131811 non-null  float64\n",
            " 1   ConsumeFuel          123753 non-null  float64\n",
            " 2   ConsumeFuelNotUrban  124041 non-null  float64\n",
            " 3   MeanConsume          0 non-null       float64\n",
            "dtypes: float64(4)\n",
            "memory usage: 5.4 MB\n"
          ]
        }
      ],
      "source": [
        "consume_df['Consume'] = consume_df['Consume'].apply(consume_numerizer)\n",
        "consume_df.info()"
      ]
    },
    {
      "cell_type": "code",
      "execution_count": 5,
      "metadata": {},
      "outputs": [],
      "source": [
        "for index, row in consume_df.iterrows():\n",
        "    # row['Consume']\n",
        "    # row['ConsumeFuel']\n",
        "    # row['ConsumeFuelNotUrban']\n",
        "    general = False\n",
        "    urban = False\n",
        "    uotUrban = False\n",
        "    \n",
        "    values = list()\n",
        "\n",
        "    if not isnan(row['Consume']):\n",
        "        general = True\n",
        "        values.append(row['Consume'])\n",
        "\n",
        "    if not isnan(row['ConsumeFuel']):\n",
        "        urban = True\n",
        "        values.append(row['ConsumeFuel'])\n",
        "\n",
        "    if not isnan(row['ConsumeFuelNotUrban']):\n",
        "        notUrban = True\n",
        "        values.append(row['ConsumeFuelNotUrban'])\n",
        "\n",
        "    mode = check_consume_row(general, urban, notUrban)\n",
        "    if len(values) != 0:\n",
        "        inferred_consumption = compute_consume(values, mode)\n",
        "        consume_df.loc[index, 'MeanConsume'] = inferred_consumption"
      ]
    },
    {
      "cell_type": "code",
      "execution_count": 6,
      "metadata": {},
      "outputs": [],
      "source": [
        "df['Consume'] = consume_df['MeanConsume'] # assign the new column to the original dataframe\n",
        "df.drop(['ConsumeFuel', 'ConsumeFuelNotUrban'], axis=1, inplace=True)"
      ]
    },
    {
      "attachments": {},
      "cell_type": "markdown",
      "metadata": {},
      "source": [
        "We now build a sub-dataframe, with all the columns that could be useful for our scope."
      ]
    },
    {
      "cell_type": "code",
      "execution_count": 7,
      "metadata": {},
      "outputs": [],
      "source": [
        "consume_df = df[['MatriculationYear', 'cv', 'Engine', 'Emissions', 'Consume', 'EmissionClass']].copy()"
      ]
    },
    {
      "attachments": {},
      "cell_type": "markdown",
      "metadata": {},
      "source": [
        "##### EmissionClass column"
      ]
    },
    {
      "attachments": {},
      "cell_type": "markdown",
      "metadata": {},
      "source": [
        "Thanks to the snippet below, we estimate the emission class of each car in the dataset, and fill the relative column."
      ]
    },
    {
      "cell_type": "code",
      "execution_count": 8,
      "metadata": {
        "colab": {
          "base_uri": "https://localhost:8080/"
        },
        "id": "lSsCetk7QB-y",
        "outputId": "c46c2311-72d7-4240-b394-bb02ffc3d783"
      },
      "outputs": [
        {
          "data": {
            "text/plain": [
              "MatriculationYear        0\n",
              "cv                   11315\n",
              "Engine                8350\n",
              "Emissions            55438\n",
              "Consume              45658\n",
              "EmissionClass            0\n",
              "dtype: int64"
            ]
          },
          "execution_count": 8,
          "metadata": {},
          "output_type": "execute_result"
        }
      ],
      "source": [
        "for idx, row in consume_df.iterrows():\n",
        "    if type(row['EmissionClass'])!=str:\n",
        "        inferred_emission_class = check_emission_class(row['EmissionClass'], row['MatriculationYear'])\n",
        "        consume_df.loc[idx, 'EmissionClass'] = inferred_emission_class\n",
        "consume_df.isna().sum()"
      ]
    },
    {
      "attachments": {},
      "cell_type": "markdown",
      "metadata": {},
      "source": [
        "Map the categorical values in reversed order. The assumption is that a higher class implies a lower emission value."
      ]
    },
    {
      "cell_type": "code",
      "execution_count": 9,
      "metadata": {
        "id": "UvfIMYiRQB-y"
      },
      "outputs": [],
      "source": [
        "emission_map = {'Euro 0':6, 'Euro 1':5, 'Euro 2':4, 'Euro 3':3, 'Euro 4':2, 'Euro 5':1, 'Euro 6':0}\n",
        "consume_df['EmissionClass'] = consume_df['EmissionClass'].map(emission_map).astype('int')"
      ]
    },
    {
      "attachments": {},
      "cell_type": "markdown",
      "metadata": {},
      "source": [
        "##### 'CV' (HorsePower) and 'Engine' columns: Outlier detection"
      ]
    },
    {
      "attachments": {},
      "cell_type": "markdown",
      "metadata": {},
      "source": [
        "Now that the NaN inside the 'cv' column are gone, we can go on with the analysis of the outliers, and their deletion. In order to perform this operation, I will use the Interquartile Range (IQR), as follows."
      ]
    },
    {
      "cell_type": "code",
      "execution_count": 10,
      "metadata": {},
      "outputs": [
        {
          "name": "stdout",
          "output_type": "stream",
          "text": [
            "The percentage of missing values is the following: \n",
            "\n",
            " MatriculationYear     0.00\n",
            "cv                    6.35\n",
            "Engine                4.68\n",
            "Emissions            31.10\n",
            "Consume              25.61\n",
            "EmissionClass         0.00\n",
            "dtype: float64 \n",
            "\n",
            "\n",
            "Old Shape:  (178248, 6)\n"
          ]
        },
        {
          "data": {
            "image/png": "[encoded data removed]",
            "text/plain": [
              "<Figure size 640x480 with 1 Axes>"
            ]
          },
          "metadata": {},
          "output_type": "display_data"
        },
        {
          "name": "stdout",
          "output_type": "stream",
          "text": [
            "New Shape:  (162756, 6)\n"
          ]
        },
        {
          "data": {
            "image/png": "[encoded data removed]",
            "text/plain": [
              "<Figure size 640x480 with 1 Axes>"
            ]
          },
          "metadata": {},
          "output_type": "display_data"
        },
        {
          "name": "stdout",
          "output_type": "stream",
          "text": [
            "The percentage of missing values is the following: \n",
            "\n",
            " MatriculationYear     0.00\n",
            "cv                    0.00\n",
            "Engine                4.00\n",
            "Emissions            26.37\n",
            "Consume              20.61\n",
            "EmissionClass         0.00\n",
            "dtype: float64 \n",
            "\n",
            "\n",
            "We lost the 8.69% of the initial observations.\n"
          ]
        }
      ],
      "source": [
        "outliers_deletion(consume_df, 'cv')"
      ]
    },
    {
      "attachments": {},
      "cell_type": "markdown",
      "metadata": {},
      "source": [
        "Let's filter out all the values equal or lower than 1cv, because I personally think these are errors, while for higher cv I cannot be so sure, so I will keep them."
      ]
    },
    {
      "cell_type": "code",
      "execution_count": 11,
      "metadata": {},
      "outputs": [],
      "source": [
        "threshold = 1\n",
        "# create a boolean mask of rows to keep\n",
        "mask = consume_df['cv'] > threshold\n",
        "# apply the mask to the dataframe\n",
        "consume_df = consume_df[mask]"
      ]
    },
    {
      "cell_type": "code",
      "execution_count": 12,
      "metadata": {},
      "outputs": [
        {
          "name": "stdout",
          "output_type": "stream",
          "text": [
            "The percentage of missing values is the following: \n",
            "\n",
            " MatriculationYear     0.00\n",
            "cv                    0.00\n",
            "Engine                3.84\n",
            "Emissions            26.19\n",
            "Consume              20.42\n",
            "EmissionClass         0.00\n",
            "dtype: float64 \n",
            "\n",
            "\n",
            "Old Shape:  (162309, 6)\n"
          ]
        },
        {
          "data": {
            "image/png": "[encoded data removed]",
            "text/plain": [
              "<Figure size 640x480 with 1 Axes>"
            ]
          },
          "metadata": {},
          "output_type": "display_data"
        },
        {
          "name": "stdout",
          "output_type": "stream",
          "text": [
            "New Shape:  (155526, 6)\n"
          ]
        },
        {
          "data": {
            "image/png": "[encoded data removed]",
            "text/plain": [
              "<Figure size 640x480 with 1 Axes>"
            ]
          },
          "metadata": {},
          "output_type": "display_data"
        },
        {
          "name": "stdout",
          "output_type": "stream",
          "text": [
            "The percentage of missing values is the following: \n",
            "\n",
            " MatriculationYear     0.00\n",
            "cv                    0.00\n",
            "Engine                0.00\n",
            "Emissions            24.50\n",
            "Consume              17.47\n",
            "EmissionClass         0.00\n",
            "dtype: float64 \n",
            "\n",
            "\n",
            "We lost the 12.75% of the initial observations.\n"
          ]
        }
      ],
      "source": [
        "outliers_deletion(consume_df, 'Engine')"
      ]
    },
    {
      "attachments": {},
      "cell_type": "markdown",
      "metadata": {},
      "source": [
        "Let's also filter out all the values below 50 for the Engine."
      ]
    },
    {
      "cell_type": "code",
      "execution_count": 13,
      "metadata": {},
      "outputs": [],
      "source": [
        "threshold = 50\n",
        "# create a boolean mask of rows to keep\n",
        "mask = consume_df['Engine'] >= threshold\n",
        "# apply the mask to the dataframe\n",
        "consume_df = consume_df[mask]"
      ]
    },
    {
      "attachments": {},
      "cell_type": "markdown",
      "metadata": {},
      "source": [
        "For the consume column, the IQR seems not to be a good way.</br\n",
        "Seen that there are some definitely too high values (such a consume of 6000l/km) and that the mean is around 5, by using the IQR method we would likely remove also values such as 12l/100km, which is a pretty standard value that doesn't need to be deleted.</br>\n",
        "In order to solve this problem, I will manually define a threshold, over which all values are likely to be errors."
      ]
    },
    {
      "cell_type": "code",
      "execution_count": 14,
      "metadata": {},
      "outputs": [
        {
          "name": "stdout",
          "output_type": "stream",
          "text": [
            "{100.0, 38.0, 71.0, 42.0, 108.0, 45.0, 400.0, 48.0, 6000.0, 51.0, 84.0, 55.0, 312.0, 61.0}\n"
          ]
        }
      ],
      "source": [
        "too_high_consume = set()\n",
        "for idx, row in consume_df.iterrows():\n",
        "    if row['Consume'] > 25:\n",
        "        too_high_consume.add(row['Consume'])\n",
        "print(too_high_consume)"
      ]
    },
    {
      "attachments": {},
      "cell_type": "markdown",
      "metadata": {},
      "source": [
        "According to some tests done with the script above, I have decided to use a threshold of 25l/100km as my max."
      ]
    },
    {
      "cell_type": "code",
      "execution_count": 15,
      "metadata": {},
      "outputs": [],
      "source": [
        "threshold = 25\n",
        "# create a boolean mask of rows to keep\n",
        "mask = consume_df['Consume'] <= threshold\n",
        "# apply the mask to the dataframe\n",
        "consume_df = consume_df[mask]"
      ]
    },
    {
      "attachments": {},
      "cell_type": "markdown",
      "metadata": {},
      "source": [
        "Now, let's build the final dataframe."
      ]
    },
    {
      "cell_type": "code",
      "execution_count": 16,
      "metadata": {},
      "outputs": [],
      "source": [
        "final_df = consume_df[['cv', 'Engine', 'Consume']].copy()"
      ]
    },
    {
      "attachments": {},
      "cell_type": "markdown",
      "metadata": {},
      "source": [
        "#### Prepare for training"
      ]
    },
    {
      "attachments": {},
      "cell_type": "markdown",
      "metadata": {},
      "source": [
        "We drop the rows containing NaN values."
      ]
    },
    {
      "cell_type": "code",
      "execution_count": 17,
      "metadata": {
        "id": "5YvVrlSlQB-z"
      },
      "outputs": [],
      "source": [
        "final_df = final_df.dropna()"
      ]
    },
    {
      "attachments": {},
      "cell_type": "markdown",
      "metadata": {},
      "source": [
        "Split into feature and target dataset."
      ]
    },
    {
      "cell_type": "code",
      "execution_count": 18,
      "metadata": {
        "colab": {
          "base_uri": "https://localhost:8080/"
        },
        "id": "ZO3UDBF8QB-1",
        "outputId": "080d7277-4b27-45ea-e9f5-81becd63b279"
      },
      "outputs": [
        {
          "name": "stdout",
          "output_type": "stream",
          "text": [
            "(124103, 2) (124103,)\n"
          ]
        }
      ],
      "source": [
        "X = final_df[['cv', 'Engine']]\n",
        "y = final_df['Consume']\n",
        "\n",
        "print(X.shape, y.shape)"
      ]
    },
    {
      "attachments": {},
      "cell_type": "markdown",
      "metadata": {},
      "source": [
        "We scale the features' dataset thanks to the sklearn.StandardScaler."
      ]
    },
    {
      "cell_type": "code",
      "execution_count": 19,
      "metadata": {
        "id": "-qLZ9bDHenYv"
      },
      "outputs": [],
      "source": [
        "standard_scaler = preprocessing.StandardScaler()\n",
        "X = standard_scaler.fit_transform(X)"
      ]
    },
    {
      "cell_type": "code",
      "execution_count": 20,
      "metadata": {
        "colab": {
          "base_uri": "https://localhost:8080/"
        },
        "id": "wzBBDXcxevzY",
        "outputId": "95048ea4-a9c4-4136-d4f4-d9c1768b9835"
      },
      "outputs": [
        {
          "data": {
            "text/plain": [
              "array([[-0.25305931,  0.63456842],\n",
              "       [-0.53803152, -0.23380748],\n",
              "       [-0.39554541, -0.52471341],\n",
              "       ...,\n",
              "       [-0.25305931, -0.44873052],\n",
              "       [-0.25305931, -0.44873052],\n",
              "       [ 0.45937121,  0.63456842]])"
            ]
          },
          "execution_count": 20,
          "metadata": {},
          "output_type": "execute_result"
        }
      ],
      "source": [
        "X"
      ]
    },
    {
      "attachments": {},
      "cell_type": "markdown",
      "metadata": {},
      "source": [
        "Split into training and test dataset."
      ]
    },
    {
      "cell_type": "code",
      "execution_count": 21,
      "metadata": {
        "id": "phCvV67ix6Tx"
      },
      "outputs": [],
      "source": [
        "from sklearn.model_selection import train_test_split\n",
        "X_train, X_test, y_train, y_test = train_test_split(X, y, test_size=0.33, random_state=0)"
      ]
    },
    {
      "cell_type": "code",
      "execution_count": 22,
      "metadata": {
        "colab": {
          "base_uri": "https://localhost:8080/"
        },
        "id": "HYy0EnpKfGok",
        "outputId": "751059ef-3d8f-4468-ea78-564e4458883b"
      },
      "outputs": [
        {
          "name": "stdout",
          "output_type": "stream",
          "text": [
            "(83149, 2) (83149,)\n",
            "(40954, 2) (40954,)\n"
          ]
        }
      ],
      "source": [
        "# Shapes of our data\n",
        "print(X_train.shape, y_train.shape)\n",
        "print(X_test.shape, y_test.shape)"
      ]
    },
    {
      "attachments": {},
      "cell_type": "markdown",
      "metadata": {},
      "source": [
        "#### Neural Network Model"
      ]
    },
    {
      "attachments": {},
      "cell_type": "markdown",
      "metadata": {},
      "source": [
        "We build two callback functions:\n",
        "- <b>earlystopping</b> is aimed at interrupting the training if the model stops learning. Additionally, it saves the best weight configuration reached during training;\n",
        "- <b>reduce_lr</b> is useful to define a dynamic learning rate for our model. The lr is reduced when the model gets stuck on a plateu during training."
      ]
    },
    {
      "cell_type": "code",
      "execution_count": 23,
      "metadata": {
        "id": "yGoaSuOfQB-1"
      },
      "outputs": [],
      "source": [
        "earlystopping = callbacks.EarlyStopping(monitor =\"val_loss\", \n",
        "                                        mode =\"auto\", patience = 12, \n",
        "                                        restore_best_weights = True)\n",
        "\n",
        "reduce_lr = callbacks.ReduceLROnPlateau(monitor='val_loss', factor=0.1,\n",
        "                                        patience=6, min_lr=0.0000001)"
      ]
    },
    {
      "attachments": {},
      "cell_type": "markdown",
      "metadata": {},
      "source": [
        "We build our NN model. The model is not too complex, but reasonably deep, and with some skip connections. As you can see, it is made up of mainly dense layers, the loss function used to train it is the MAE (Mean Absolute Error), but the metric we look at is the MSE (Mean Squared Error), to have a grasp on the capability of generalizing results. Reaching a low MAE value is per-se a finish line for the training, in particular if it is accompanied by a relatively low MSE value.</br>\n",
        "Since the initial drafts where overfitting, I have added a Dropout layer with probability 0.2."
      ]
    },
    {
      "cell_type": "code",
      "execution_count": 24,
      "metadata": {},
      "outputs": [
        {
          "name": "stdout",
          "output_type": "stream",
          "text": [
            "Metal device set to: Apple M1 Pro\n",
            "\n",
            "systemMemory: 16.00 GB\n",
            "maxCacheSize: 5.33 GB\n",
            "\n"
          ]
        },
        {
          "name": "stderr",
          "output_type": "stream",
          "text": [
            "2023-03-22 00:39:28.506228: I tensorflow/core/common_runtime/pluggable_device/pluggable_device_factory.cc:305] Could not identify NUMA node of platform GPU ID 0, defaulting to 0. Your kernel may not have been built with NUMA support.\n",
            "2023-03-22 00:39:28.506390: I tensorflow/core/common_runtime/pluggable_device/pluggable_device_factory.cc:271] Created TensorFlow device (/job:localhost/replica:0/task:0/device:GPU:0 with 0 MB memory) -> physical PluggableDevice (device: 0, name: METAL, pci bus id: <undefined>)\n"
          ]
        }
      ],
      "source": [
        "######################################\n",
        "# Model Name = consume_estimator\n",
        "######################################\n",
        "\n",
        "# Define optimizer and initial learning rate\n",
        "optimizer = Adam(learning_rate=0.01) # The initial learning rate is pretty high, but it gets dynamically decreased during training steps\n",
        "\n",
        "input_layer = Input(shape=(2,))\n",
        "\n",
        "# Define Hidden layers\n",
        "first_dense_layer = Dense(4, activation='swish')(input_layer) # was swish 16\n",
        "second_dense_layer = Dense(4, activation = 'relu')(input_layer) # was selu 16\n",
        "concatenated_layer = concatenate([first_dense_layer, second_dense_layer])\n",
        "\n",
        "final_dense_layer = Dense(4, activation = 'selu')(concatenated_layer) # 4\n",
        "\n",
        "# Output Dense layer\n",
        "output = Dense(1, activation='relu')(final_dense_layer)\n",
        "\n",
        "# Build and compile the model\n",
        "consume_estimator = Model(inputs=input_layer, outputs=output)\n",
        "consume_estimator.compile(optimizer=optimizer, loss='mae', metrics=['mse'])"
      ]
    },
    {
      "attachments": {},
      "cell_type": "markdown",
      "metadata": {},
      "source": [
        "Here we print out a summary of our model."
      ]
    },
    {
      "cell_type": "code",
      "execution_count": 25,
      "metadata": {
        "colab": {
          "base_uri": "https://localhost:8080/"
        },
        "id": "g2o973aIQB-1",
        "outputId": "7c2d496f-1014-46ea-a019-40200d34471f"
      },
      "outputs": [
        {
          "name": "stdout",
          "output_type": "stream",
          "text": [
            "Model: \"model\"\n",
            "__________________________________________________________________________________________________\n",
            " Layer (type)                   Output Shape         Param #     Connected to                     \n",
            "==================================================================================================\n",
            " input_1 (InputLayer)           [(None, 2)]          0           []                               \n",
            "                                                                                                  \n",
            " dense (Dense)                  (None, 4)            12          ['input_1[0][0]']                \n",
            "                                                                                                  \n",
            " dense_1 (Dense)                (None, 4)            12          ['input_1[0][0]']                \n",
            "                                                                                                  \n",
            " concatenate (Concatenate)      (None, 8)            0           ['dense[0][0]',                  \n",
            "                                                                  'dense_1[0][0]']                \n",
            "                                                                                                  \n",
            " dense_2 (Dense)                (None, 4)            36          ['concatenate[0][0]']            \n",
            "                                                                                                  \n",
            " dense_3 (Dense)                (None, 1)            5           ['dense_2[0][0]']                \n",
            "                                                                                                  \n",
            "==================================================================================================\n",
            "Total params: 65\n",
            "Trainable params: 65\n",
            "Non-trainable params: 0\n",
            "__________________________________________________________________________________________________\n"
          ]
        }
      ],
      "source": [
        "consume_estimator.summary()"
      ]
    },
    {
      "cell_type": "code",
      "execution_count": 26,
      "metadata": {},
      "outputs": [
        {
          "data": {
            "image/png": "[encoded data removed]",
            "text/plain": [
              "<IPython.core.display.Image object>"
            ]
          },
          "execution_count": 26,
          "metadata": {},
          "output_type": "execute_result"
        }
      ],
      "source": [
        "plot_model(consume_estimator, show_shapes=True, dpi=76)"
      ]
    },
    {
      "attachments": {},
      "cell_type": "markdown",
      "metadata": {},
      "source": [
        "#### Training"
      ]
    },
    {
      "attachments": {},
      "cell_type": "markdown",
      "metadata": {},
      "source": [
        "We define some hyper-parameters for the training."
      ]
    },
    {
      "cell_type": "code",
      "execution_count": 27,
      "metadata": {
        "id": "i9-gt146QB-2"
      },
      "outputs": [],
      "source": [
        "batchsize = 128\n",
        "epochs = 100\n",
        "steps_per_epoch = 1000 \n",
        "validation_steps = 500 "
      ]
    },
    {
      "attachments": {},
      "cell_type": "markdown",
      "metadata": {},
      "source": [
        "Effective training."
      ]
    },
    {
      "cell_type": "code",
      "execution_count": 28,
      "metadata": {
        "colab": {
          "base_uri": "https://localhost:8080/"
        },
        "id": "mpaQa6egQB-2",
        "outputId": "806953dd-8838-4cb3-8a96-555bc58e1a78"
      },
      "outputs": [
        {
          "name": "stdout",
          "output_type": "stream",
          "text": [
            "Epoch 1/100\n"
          ]
        },
        {
          "name": "stderr",
          "output_type": "stream",
          "text": [
            "2023-03-22 00:39:29.090555: W tensorflow/core/platform/profile_utils/cpu_utils.cc:128] Failed to get CPU frequency: 0 Hz\n",
            "2023-03-22 00:39:29.338596: I tensorflow/core/grappler/optimizers/custom_graph_optimizer_registry.cc:113] Plugin optimizer for device_type GPU is enabled.\n"
          ]
        },
        {
          "name": "stdout",
          "output_type": "stream",
          "text": [
            " 999/1000 [============================>.] - ETA: 0s - loss: 0.8775 - mse: 1.8107"
          ]
        },
        {
          "name": "stderr",
          "output_type": "stream",
          "text": [
            "2023-03-22 00:39:39.176024: I tensorflow/core/grappler/optimizers/custom_graph_optimizer_registry.cc:113] Plugin optimizer for device_type GPU is enabled.\n"
          ]
        },
        {
          "name": "stdout",
          "output_type": "stream",
          "text": [
            "1000/1000 [==============================] - 12s 12ms/step - loss: 0.8773 - mse: 1.8098 - val_loss: 0.7646 - val_mse: 1.2966 - lr: 0.0100\n",
            "Epoch 2/100\n",
            "1000/1000 [==============================] - 11s 11ms/step - loss: 0.7645 - mse: 1.3386 - val_loss: 0.7408 - val_mse: 1.2358 - lr: 0.0100\n",
            "Epoch 3/100\n",
            "1000/1000 [==============================] - 12s 12ms/step - loss: 0.7545 - mse: 1.3283 - val_loss: 0.7341 - val_mse: 1.2059 - lr: 0.0100\n",
            "Epoch 4/100\n",
            "1000/1000 [==============================] - 12s 12ms/step - loss: 0.7450 - mse: 1.3013 - val_loss: 0.7276 - val_mse: 1.2278 - lr: 0.0100\n",
            "Epoch 5/100\n",
            "1000/1000 [==============================] - 12s 12ms/step - loss: 0.7425 - mse: 1.2960 - val_loss: 0.7267 - val_mse: 1.2372 - lr: 0.0100\n",
            "Epoch 6/100\n",
            "1000/1000 [==============================] - 12s 12ms/step - loss: 0.7449 - mse: 1.3069 - val_loss: 0.7387 - val_mse: 1.1898 - lr: 0.0100\n",
            "Epoch 7/100\n",
            "1000/1000 [==============================] - 12s 12ms/step - loss: 0.7408 - mse: 1.2951 - val_loss: 0.7310 - val_mse: 1.2720 - lr: 0.0100\n",
            "Epoch 8/100\n",
            "1000/1000 [==============================] - 12s 12ms/step - loss: 0.7402 - mse: 1.2959 - val_loss: 0.7187 - val_mse: 1.2121 - lr: 0.0100\n",
            "Epoch 9/100\n",
            "1000/1000 [==============================] - 12s 12ms/step - loss: 0.7354 - mse: 1.2803 - val_loss: 0.7190 - val_mse: 1.2136 - lr: 0.0100\n",
            "Epoch 10/100\n",
            "1000/1000 [==============================] - 12s 12ms/step - loss: 0.7376 - mse: 1.3042 - val_loss: 0.7241 - val_mse: 1.2277 - lr: 0.0100\n",
            "Epoch 11/100\n",
            "1000/1000 [==============================] - 12s 12ms/step - loss: 0.7358 - mse: 1.2832 - val_loss: 0.7175 - val_mse: 1.1894 - lr: 0.0100\n",
            "Epoch 12/100\n",
            "1000/1000 [==============================] - 12s 12ms/step - loss: 0.7344 - mse: 1.2726 - val_loss: 0.7191 - val_mse: 1.2326 - lr: 0.0100\n",
            "Epoch 13/100\n",
            "1000/1000 [==============================] - 12s 12ms/step - loss: 0.7340 - mse: 1.2808 - val_loss: 0.7266 - val_mse: 1.2473 - lr: 0.0100\n",
            "Epoch 14/100\n",
            "1000/1000 [==============================] - 12s 12ms/step - loss: 0.7325 - mse: 1.2748 - val_loss: 0.7251 - val_mse: 1.1571 - lr: 0.0100\n",
            "Epoch 15/100\n",
            "1000/1000 [==============================] - 12s 12ms/step - loss: 0.7326 - mse: 1.2827 - val_loss: 0.7142 - val_mse: 1.1874 - lr: 0.0100\n",
            "Epoch 16/100\n",
            "1000/1000 [==============================] - 12s 12ms/step - loss: 0.7309 - mse: 1.2664 - val_loss: 0.7129 - val_mse: 1.1639 - lr: 0.0100\n",
            "Epoch 17/100\n",
            "1000/1000 [==============================] - 12s 12ms/step - loss: 0.7310 - mse: 1.2867 - val_loss: 0.7118 - val_mse: 1.1785 - lr: 0.0100\n",
            "Epoch 18/100\n",
            "1000/1000 [==============================] - 12s 12ms/step - loss: 0.7299 - mse: 1.2691 - val_loss: 0.7250 - val_mse: 1.1561 - lr: 0.0100\n",
            "Epoch 19/100\n",
            "1000/1000 [==============================] - 12s 12ms/step - loss: 0.7292 - mse: 1.2724 - val_loss: 0.7312 - val_mse: 1.1614 - lr: 0.0100\n",
            "Epoch 20/100\n",
            "1000/1000 [==============================] - 12s 12ms/step - loss: 0.7285 - mse: 1.2554 - val_loss: 0.7103 - val_mse: 1.1621 - lr: 0.0100\n",
            "Epoch 21/100\n",
            "1000/1000 [==============================] - 12s 12ms/step - loss: 0.7250 - mse: 1.2592 - val_loss: 0.7134 - val_mse: 1.1479 - lr: 0.0100\n",
            "Epoch 22/100\n",
            "1000/1000 [==============================] - 12s 12ms/step - loss: 0.7286 - mse: 1.2719 - val_loss: 0.7121 - val_mse: 1.1651 - lr: 0.0100\n",
            "Epoch 23/100\n",
            "1000/1000 [==============================] - 12s 12ms/step - loss: 0.7272 - mse: 1.2629 - val_loss: 0.7105 - val_mse: 1.1740 - lr: 0.0100\n",
            "Epoch 24/100\n",
            "1000/1000 [==============================] - 12s 12ms/step - loss: 0.7241 - mse: 1.2633 - val_loss: 0.7095 - val_mse: 1.1562 - lr: 0.0100\n",
            "Epoch 25/100\n",
            "1000/1000 [==============================] - 12s 12ms/step - loss: 0.7218 - mse: 1.2349 - val_loss: 0.7187 - val_mse: 1.1951 - lr: 0.0100\n",
            "Epoch 26/100\n",
            "1000/1000 [==============================] - 12s 12ms/step - loss: 0.7230 - mse: 1.2516 - val_loss: 0.7028 - val_mse: 1.1675 - lr: 0.0100\n",
            "Epoch 27/100\n",
            "1000/1000 [==============================] - 12s 12ms/step - loss: 0.7208 - mse: 1.2632 - val_loss: 0.7056 - val_mse: 1.1634 - lr: 0.0100\n",
            "Epoch 28/100\n",
            "1000/1000 [==============================] - 12s 12ms/step - loss: 0.7203 - mse: 1.2540 - val_loss: 0.7092 - val_mse: 1.1216 - lr: 0.0100\n",
            "Epoch 29/100\n",
            "1000/1000 [==============================] - 12s 12ms/step - loss: 0.7104 - mse: 1.2181 - val_loss: 0.6954 - val_mse: 1.1874 - lr: 0.0100\n",
            "Epoch 30/100\n",
            "1000/1000 [==============================] - 12s 12ms/step - loss: 0.7044 - mse: 1.2333 - val_loss: 0.6882 - val_mse: 1.0791 - lr: 0.0100\n",
            "Epoch 31/100\n",
            "1000/1000 [==============================] - 12s 12ms/step - loss: 0.6882 - mse: 1.1819 - val_loss: 0.6771 - val_mse: 1.1269 - lr: 0.0100\n",
            "Epoch 32/100\n",
            "1000/1000 [==============================] - 13s 13ms/step - loss: 0.6848 - mse: 1.1960 - val_loss: 0.6715 - val_mse: 1.0726 - lr: 0.0100\n",
            "Epoch 33/100\n",
            "1000/1000 [==============================] - 12s 12ms/step - loss: 0.6814 - mse: 1.1897 - val_loss: 0.6654 - val_mse: 1.0798 - lr: 0.0100\n",
            "Epoch 34/100\n",
            "1000/1000 [==============================] - 12s 12ms/step - loss: 0.6855 - mse: 1.2094 - val_loss: 0.6658 - val_mse: 1.1149 - lr: 0.0100\n",
            "Epoch 35/100\n",
            "1000/1000 [==============================] - 12s 12ms/step - loss: 0.6752 - mse: 1.1510 - val_loss: 0.6611 - val_mse: 1.0617 - lr: 0.0100\n",
            "Epoch 36/100\n",
            "1000/1000 [==============================] - 12s 12ms/step - loss: 0.6768 - mse: 1.1702 - val_loss: 0.6599 - val_mse: 1.0816 - lr: 0.0100\n",
            "Epoch 37/100\n",
            "1000/1000 [==============================] - 12s 12ms/step - loss: 0.6806 - mse: 1.1882 - val_loss: 0.6585 - val_mse: 1.1168 - lr: 0.0100\n",
            "Epoch 38/100\n",
            "1000/1000 [==============================] - 12s 12ms/step - loss: 0.6720 - mse: 1.1571 - val_loss: 0.6585 - val_mse: 1.1145 - lr: 0.0100\n",
            "Epoch 39/100\n",
            "1000/1000 [==============================] - 12s 12ms/step - loss: 0.6701 - mse: 1.1517 - val_loss: 0.6617 - val_mse: 1.0509 - lr: 0.0100\n",
            "Epoch 40/100\n",
            "1000/1000 [==============================] - 12s 12ms/step - loss: 0.6713 - mse: 1.1695 - val_loss: 0.6549 - val_mse: 1.0951 - lr: 0.0100\n",
            "Epoch 41/100\n",
            "1000/1000 [==============================] - 12s 12ms/step - loss: 0.6712 - mse: 1.1756 - val_loss: 0.6513 - val_mse: 1.0312 - lr: 0.0100\n",
            "Epoch 42/100\n",
            "1000/1000 [==============================] - 12s 12ms/step - loss: 0.6642 - mse: 1.1410 - val_loss: 0.6481 - val_mse: 1.0584 - lr: 0.0100\n",
            "Epoch 43/100\n",
            "1000/1000 [==============================] - 12s 12ms/step - loss: 0.6666 - mse: 1.1664 - val_loss: 0.6628 - val_mse: 1.0462 - lr: 0.0100\n",
            "Epoch 44/100\n",
            "1000/1000 [==============================] - 11s 11ms/step - loss: 0.6637 - mse: 1.1528 - val_loss: 0.6546 - val_mse: 1.0680 - lr: 0.0100\n",
            "Epoch 45/100\n",
            "1000/1000 [==============================] - 12s 12ms/step - loss: 0.6674 - mse: 1.1725 - val_loss: 0.6497 - val_mse: 1.0699 - lr: 0.0100\n",
            "Epoch 46/100\n",
            "1000/1000 [==============================] - 11s 11ms/step - loss: 0.6623 - mse: 1.1336 - val_loss: 0.6497 - val_mse: 1.0550 - lr: 0.0100\n",
            "Epoch 47/100\n",
            "1000/1000 [==============================] - 13s 13ms/step - loss: 0.6658 - mse: 1.1787 - val_loss: 0.6468 - val_mse: 1.0487 - lr: 0.0100\n",
            "Epoch 48/100\n",
            "1000/1000 [==============================] - 12s 12ms/step - loss: 0.6627 - mse: 1.1404 - val_loss: 0.6503 - val_mse: 1.0419 - lr: 0.0100\n",
            "Epoch 49/100\n",
            "1000/1000 [==============================] - 11s 11ms/step - loss: 0.6611 - mse: 1.1548 - val_loss: 0.6470 - val_mse: 1.0869 - lr: 0.0100\n",
            "Epoch 50/100\n",
            "1000/1000 [==============================] - 13s 13ms/step - loss: 0.6657 - mse: 1.1550 - val_loss: 0.6497 - val_mse: 1.0453 - lr: 0.0100\n",
            "Epoch 51/100\n",
            "1000/1000 [==============================] - 11s 11ms/step - loss: 0.6634 - mse: 1.1638 - val_loss: 0.6473 - val_mse: 1.0490 - lr: 0.0100\n",
            "Epoch 52/100\n",
            "1000/1000 [==============================] - 12s 12ms/step - loss: 0.6610 - mse: 1.1400 - val_loss: 0.6505 - val_mse: 1.0534 - lr: 0.0100\n",
            "Epoch 53/100\n",
            "1000/1000 [==============================] - 12s 12ms/step - loss: 0.6666 - mse: 1.1762 - val_loss: 0.6505 - val_mse: 1.0633 - lr: 0.0100\n",
            "Epoch 54/100\n",
            "1000/1000 [==============================] - 12s 12ms/step - loss: 0.6500 - mse: 1.1328 - val_loss: 0.6386 - val_mse: 1.0522 - lr: 1.0000e-03\n",
            "Epoch 55/100\n",
            "1000/1000 [==============================] - 12s 12ms/step - loss: 0.6501 - mse: 1.1259 - val_loss: 0.6382 - val_mse: 1.0629 - lr: 1.0000e-03\n",
            "Epoch 56/100\n",
            "1000/1000 [==============================] - 12s 12ms/step - loss: 0.6525 - mse: 1.1449 - val_loss: 0.6380 - val_mse: 1.0460 - lr: 1.0000e-03\n",
            "Epoch 57/100\n",
            "1000/1000 [==============================] - 12s 12ms/step - loss: 0.6471 - mse: 1.1301 - val_loss: 0.6378 - val_mse: 1.0517 - lr: 1.0000e-03\n",
            "Epoch 58/100\n",
            "1000/1000 [==============================] - 12s 12ms/step - loss: 0.6554 - mse: 1.1584 - val_loss: 0.6385 - val_mse: 1.0487 - lr: 1.0000e-03\n",
            "Epoch 59/100\n",
            "1000/1000 [==============================] - 12s 12ms/step - loss: 0.6487 - mse: 1.1249 - val_loss: 0.6383 - val_mse: 1.0389 - lr: 1.0000e-03\n",
            "Epoch 60/100\n",
            "1000/1000 [==============================] - 12s 12ms/step - loss: 0.6468 - mse: 1.1341 - val_loss: 0.6374 - val_mse: 1.0482 - lr: 1.0000e-03\n",
            "Epoch 61/100\n",
            "1000/1000 [==============================] - 12s 12ms/step - loss: 0.6559 - mse: 1.1605 - val_loss: 0.6377 - val_mse: 1.0499 - lr: 1.0000e-03\n",
            "Epoch 62/100\n",
            "1000/1000 [==============================] - 12s 12ms/step - loss: 0.6451 - mse: 1.1078 - val_loss: 0.6424 - val_mse: 1.0213 - lr: 1.0000e-03\n",
            "Epoch 63/100\n",
            "1000/1000 [==============================] - 12s 12ms/step - loss: 0.6516 - mse: 1.1395 - val_loss: 0.6384 - val_mse: 1.0406 - lr: 1.0000e-03\n",
            "Epoch 64/100\n",
            "1000/1000 [==============================] - 12s 12ms/step - loss: 0.6501 - mse: 1.1498 - val_loss: 0.6385 - val_mse: 1.0645 - lr: 1.0000e-03\n",
            "Epoch 65/100\n",
            "1000/1000 [==============================] - 12s 12ms/step - loss: 0.6533 - mse: 1.1529 - val_loss: 0.6377 - val_mse: 1.0511 - lr: 1.0000e-03\n",
            "Epoch 66/100\n",
            "1000/1000 [==============================] - 12s 12ms/step - loss: 0.6477 - mse: 1.1193 - val_loss: 0.6378 - val_mse: 1.0459 - lr: 1.0000e-03\n",
            "Epoch 67/100\n",
            "1000/1000 [==============================] - 12s 12ms/step - loss: 0.6499 - mse: 1.1466 - val_loss: 0.6370 - val_mse: 1.0465 - lr: 1.0000e-04\n",
            "Epoch 68/100\n",
            "1000/1000 [==============================] - 13s 13ms/step - loss: 0.6477 - mse: 1.1188 - val_loss: 0.6372 - val_mse: 1.0466 - lr: 1.0000e-04\n",
            "Epoch 69/100\n",
            "1000/1000 [==============================] - 12s 12ms/step - loss: 0.6484 - mse: 1.1458 - val_loss: 0.6371 - val_mse: 1.0495 - lr: 1.0000e-04\n",
            "Epoch 70/100\n",
            "1000/1000 [==============================] - 12s 12ms/step - loss: 0.6534 - mse: 1.1557 - val_loss: 0.6368 - val_mse: 1.0459 - lr: 1.0000e-04\n",
            "Epoch 71/100\n",
            "1000/1000 [==============================] - 12s 12ms/step - loss: 0.6449 - mse: 1.1313 - val_loss: 0.6368 - val_mse: 1.0464 - lr: 1.0000e-04\n",
            "Epoch 72/100\n",
            "1000/1000 [==============================] - 12s 12ms/step - loss: 0.6487 - mse: 1.1303 - val_loss: 0.6371 - val_mse: 1.0397 - lr: 1.0000e-04\n",
            "Epoch 73/100\n",
            "1000/1000 [==============================] - 12s 12ms/step - loss: 0.6464 - mse: 1.1248 - val_loss: 0.6368 - val_mse: 1.0457 - lr: 1.0000e-04\n",
            "Epoch 74/100\n",
            "1000/1000 [==============================] - 12s 12ms/step - loss: 0.6533 - mse: 1.1743 - val_loss: 0.6368 - val_mse: 1.0477 - lr: 1.0000e-04\n",
            "Epoch 75/100\n",
            "1000/1000 [==============================] - 12s 12ms/step - loss: 0.6429 - mse: 1.0953 - val_loss: 0.6369 - val_mse: 1.0446 - lr: 1.0000e-04\n",
            "Epoch 76/100\n",
            "1000/1000 [==============================] - 12s 12ms/step - loss: 0.6499 - mse: 1.1339 - val_loss: 0.6368 - val_mse: 1.0442 - lr: 1.0000e-04\n",
            "Epoch 77/100\n",
            "1000/1000 [==============================] - 12s 12ms/step - loss: 0.6456 - mse: 1.1233 - val_loss: 0.6367 - val_mse: 1.0456 - lr: 1.0000e-05\n",
            "Epoch 78/100\n",
            "1000/1000 [==============================] - 12s 12ms/step - loss: 0.6538 - mse: 1.1687 - val_loss: 0.6367 - val_mse: 1.0450 - lr: 1.0000e-05\n",
            "Epoch 79/100\n",
            "1000/1000 [==============================] - 12s 12ms/step - loss: 0.6464 - mse: 1.1268 - val_loss: 0.6367 - val_mse: 1.0447 - lr: 1.0000e-05\n",
            "Epoch 80/100\n",
            "1000/1000 [==============================] - 12s 12ms/step - loss: 0.6507 - mse: 1.1510 - val_loss: 0.6367 - val_mse: 1.0455 - lr: 1.0000e-05\n",
            "Epoch 81/100\n",
            "1000/1000 [==============================] - 12s 12ms/step - loss: 0.6452 - mse: 1.1151 - val_loss: 0.6367 - val_mse: 1.0448 - lr: 1.0000e-05\n",
            "Epoch 82/100\n",
            "1000/1000 [==============================] - 12s 12ms/step - loss: 0.6470 - mse: 1.1213 - val_loss: 0.6367 - val_mse: 1.0451 - lr: 1.0000e-05\n",
            "Epoch 83/100\n",
            "1000/1000 [==============================] - 13s 13ms/step - loss: 0.6495 - mse: 1.1489 - val_loss: 0.6367 - val_mse: 1.0451 - lr: 1.0000e-06\n",
            "Epoch 84/100\n",
            "1000/1000 [==============================] - 13s 13ms/step - loss: 0.6472 - mse: 1.1297 - val_loss: 0.6367 - val_mse: 1.0452 - lr: 1.0000e-06\n",
            "Epoch 85/100\n",
            "1000/1000 [==============================] - 13s 13ms/step - loss: 0.6480 - mse: 1.1347 - val_loss: 0.6367 - val_mse: 1.0452 - lr: 1.0000e-06\n",
            "Epoch 86/100\n",
            "1000/1000 [==============================] - 12s 12ms/step - loss: 0.6446 - mse: 1.1177 - val_loss: 0.6367 - val_mse: 1.0453 - lr: 1.0000e-06\n",
            "Epoch 87/100\n",
            "1000/1000 [==============================] - 12s 12ms/step - loss: 0.6467 - mse: 1.1248 - val_loss: 0.6367 - val_mse: 1.0452 - lr: 1.0000e-06\n",
            "Epoch 88/100\n",
            "1000/1000 [==============================] - 13s 13ms/step - loss: 0.6530 - mse: 1.1570 - val_loss: 0.6367 - val_mse: 1.0452 - lr: 1.0000e-06\n",
            "Epoch 89/100\n",
            "1000/1000 [==============================] - 12s 12ms/step - loss: 0.6487 - mse: 1.1353 - val_loss: 0.6367 - val_mse: 1.0452 - lr: 1.0000e-07\n",
            "Epoch 90/100\n",
            "1000/1000 [==============================] - 12s 12ms/step - loss: 0.6471 - mse: 1.1329 - val_loss: 0.6367 - val_mse: 1.0452 - lr: 1.0000e-07\n",
            "Epoch 91/100\n",
            "1000/1000 [==============================] - 12s 12ms/step - loss: 0.6478 - mse: 1.1262 - val_loss: 0.6367 - val_mse: 1.0452 - lr: 1.0000e-07\n",
            "Epoch 92/100\n",
            "1000/1000 [==============================] - 12s 12ms/step - loss: 0.6495 - mse: 1.1345 - val_loss: 0.6367 - val_mse: 1.0452 - lr: 1.0000e-07\n",
            "Epoch 93/100\n",
            "1000/1000 [==============================] - 12s 12ms/step - loss: 0.6483 - mse: 1.1391 - val_loss: 0.6367 - val_mse: 1.0452 - lr: 1.0000e-07\n",
            "Epoch 94/100\n",
            "1000/1000 [==============================] - 12s 12ms/step - loss: 0.6466 - mse: 1.1336 - val_loss: 0.6367 - val_mse: 1.0452 - lr: 1.0000e-07\n",
            "Epoch 95/100\n",
            "1000/1000 [==============================] - 12s 12ms/step - loss: 0.6493 - mse: 1.1407 - val_loss: 0.6367 - val_mse: 1.0452 - lr: 1.0000e-07\n",
            "Epoch 96/100\n",
            "1000/1000 [==============================] - 12s 12ms/step - loss: 0.6469 - mse: 1.1280 - val_loss: 0.6367 - val_mse: 1.0452 - lr: 1.0000e-07\n"
          ]
        }
      ],
      "source": [
        "# Training record\n",
        "################################################################################\n",
        "\n",
        "history = consume_estimator.fit(X_train,\n",
        "                            y_train,\n",
        "                            steps_per_epoch=steps_per_epoch, \n",
        "                            validation_split=0.2, \n",
        "                            epochs=epochs,\n",
        "                            shuffle=True, \n",
        "                            callbacks =[reduce_lr, earlystopping])"
      ]
    },
    {
      "attachments": {},
      "cell_type": "markdown",
      "metadata": {},
      "source": [
        "As we can see, both the values of the MSE (around 1) and MAE (around .6 points) are discretely low. Even in this case, this is a better solution for column completion than the mean or median imputation."
      ]
    },
    {
      "cell_type": "code",
      "execution_count": 29,
      "metadata": {},
      "outputs": [
        {
          "data": {
            "image/png": "[encoded data removed]",
            "text/plain": [
              "<Figure size 640x480 with 2 Axes>"
            ]
          },
          "metadata": {},
          "output_type": "display_data"
        }
      ],
      "source": [
        "plot_training_history(history)"
      ]
    },
    {
      "attachments": {},
      "cell_type": "markdown",
      "metadata": {},
      "source": [
        "Let's save the model."
      ]
    },
    {
      "cell_type": "code",
      "execution_count": 30,
      "metadata": {},
      "outputs": [
        {
          "name": "stdout",
          "output_type": "stream",
          "text": [
            "INFO:tensorflow:Assets written to: models/consume_estimator_2dim/assets\n"
          ]
        }
      ],
      "source": [
        "consume_estimator.save(\"models/consume_estimator_2dim\")"
      ]
    },
    {
      "attachments": {},
      "cell_type": "markdown",
      "metadata": {},
      "source": [
        "### Test"
      ]
    },
    {
      "attachments": {},
      "cell_type": "markdown",
      "metadata": {},
      "source": [
        "The aim of this section is to test our model against the test_set (that it has never seen), in order to have a clearer idea about the performances."
      ]
    },
    {
      "cell_type": "code",
      "execution_count": 31,
      "metadata": {},
      "outputs": [],
      "source": [
        "estimator = keras.models.load_model(\"models/consume_estimator_2dim\")"
      ]
    },
    {
      "cell_type": "code",
      "execution_count": 35,
      "metadata": {},
      "outputs": [
        {
          "data": {
            "text/plain": [
              "array([-0.39554541, -0.52471341])"
            ]
          },
          "execution_count": 35,
          "metadata": {},
          "output_type": "execute_result"
        }
      ],
      "source": [
        "np.array(X_test)[1]"
      ]
    },
    {
      "cell_type": "code",
      "execution_count": 38,
      "metadata": {},
      "outputs": [
        {
          "data": {
            "text/plain": [
              "4.5"
            ]
          },
          "execution_count": 38,
          "metadata": {},
          "output_type": "execute_result"
        }
      ],
      "source": [
        "np.array(y_test)[2]"
      ]
    },
    {
      "cell_type": "code",
      "execution_count": 39,
      "metadata": {},
      "outputs": [
        {
          "name": "stdout",
          "output_type": "stream",
          "text": [
            "1280/1280 [==============================] - 4s 3ms/step\n"
          ]
        },
        {
          "data": {
            "text/plain": [
              "array([4.1000347], dtype=float32)"
            ]
          },
          "execution_count": 39,
          "metadata": {},
          "output_type": "execute_result"
        }
      ],
      "source": [
        "prediction = estimator.predict(X_test)\n",
        "prediction[2]"
      ]
    },
    {
      "cell_type": "code",
      "execution_count": null,
      "metadata": {},
      "outputs": [],
      "source": []
    }
  ],
  "metadata": {
    "accelerator": "GPU",
    "colab": {
      "provenance": []
    },
    "gpuClass": "standard",
    "kernelspec": {
      "display_name": "Intro_to_ML",
      "language": "python",
      "name": "python3"
    },
    "language_info": {
      "codemirror_mode": {
        "name": "ipython",
        "version": 3
      },
      "file_extension": ".py",
      "mimetype": "text/x-python",
      "name": "python",
      "nbconvert_exporter": "python",
      "pygments_lexer": "ipython3",
      "version": "3.10.9"
    },
    "orig_nbformat": 4
  },
  "nbformat": 4,
  "nbformat_minor": 0
}
